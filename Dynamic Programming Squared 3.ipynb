{
 "cells": [
  {
   "cell_type": "code",
   "execution_count": 1,
   "metadata": {
    "collapsed": true
   },
   "outputs": [],
   "source": [
    "from IPython.core.interactiveshell import InteractiveShell\n",
    "InteractiveShell.ast_node_interactivity = \"all\"\n",
    "\n",
    "import numpy as np\n",
    "from numpy import random\n",
    "from scipy.stats import lognorm\n",
    "from scipy.integrate import fixed_quad\n",
    "from scipy import interpolate\n",
    "from scipy.optimize import fminbound\n",
    "from scipy.optimize import minimize\n",
    "\n",
    "%matplotlib inline\n",
    "import matplotlib.pyplot as plt\n",
    "from mpl_toolkits import mplot3d\n",
    "#import plotly.plotly as py\n",
    "#import plotly.graph_objs as go\n",
    "#from plotly import __version__\n",
    "#from plotly.offline import download_plotlyjs, init_notebook_mode, plot, iplot\n",
    "\n",
    "#from numba import jit\n",
    "#ipcluster nbextension enable"
   ]
  },
  {
   "cell_type": "code",
   "execution_count": 333,
   "metadata": {},
   "outputs": [],
   "source": [
    "class DynamicProgrammingSquaredModel:\n",
    "    \"\"\"\n",
    "    Docstrings\n",
    "    \"\"\"\n",
    "    \n",
    "    def __init__(self,\n",
    "                β = 0.8 ,\n",
    "                γ = 0.9,\n",
    "                τ = 0.2,\n",
    "                μ = 0,\n",
    "                s = 0.1,\n",
    "                α = 0.5,\n",
    "                δ = 0.1,\n",
    "                θ = 0.9,\n",
    "                seed = 100,\n",
    "                shock_size = 100 ,\n",
    "                y_min = 1e-5,\n",
    "                y_max = 5,\n",
    "                y_grid_size = 100\n",
    "                ):\n",
    "        #### Assigning Parameters\n",
    "        \n",
    "        # Model Parameters\n",
    "        self.β, self.γ, self.τ = β, γ, τ\n",
    "        \n",
    "        # State Function G Parameters assignement\n",
    "        self.α, self.δ, self.θ = α, δ, θ\n",
    "        \n",
    "        # Shocks Parameters\n",
    "        self.s, self.μ, self.shock_size, self.seed  = s, μ, shock_size, seed\n",
    "        \n",
    "        #Setting up shocks in the models\n",
    "        np.random.seed(self.seed) # setting seed to generate same random numbers\n",
    "        self.shocks = np.exp( self.μ + self.s * np.random.randn(self.shock_size)  )\n",
    "        \n",
    "        #Y Grid State Allocation\n",
    "        self.y_min, self.y_max, self.y_grid_size  = y_min, y_max, y_grid_size\n",
    "        self.y_grid = np.linspace(self.y_min, self.y_max, self.y_grid_size)\n",
    "        \n",
    "    \n",
    "    def initial_v(self):\n",
    "        return np.sqrt(self.y_grid)\n",
    "        #return self.y_grid\n",
    "        #return 10*np.log(self.y_grid)\n",
    "        \n",
    "    \n",
    "    def U(self,y,k,τ):\n",
    "        'Calculates utility of Agents'\n",
    "        return np.power( (1-τ)*y-k ,0.9)\n",
    "    \n",
    "    \n",
    "    def W(self,y,x,τ):\n",
    "        'Calculates the utility of Principal(Government)'\n",
    "        return np.power(τ*y - x,0.9)\n",
    "    \n",
    "    \n",
    "    def G(self, y,x, k):\n",
    "        'G is state transition function'\n",
    "        return (y**self.α+ x**self.θ + k**self.δ )*self.shocks\n",
    "    \n",
    "    \n",
    "    def bellman_operator_v(self, v, x = 0, τ = 0, Tv = None):\n",
    "        \"\"\"\n",
    "        It runs of consumers utility equation\n",
    "        \"\"\"\n",
    "        ### Applying Linear Interpolation\n",
    "        fv = interpolate.interp1d(self.y_grid, v,fill_value='extrapolate')\n",
    "        \n",
    "        # Intialized Compute policy if needed\n",
    "        σ_v = np.empty_like(v)\n",
    "        \n",
    "        ## Intialized Tv if necessary ###\n",
    "        if Tv is None:\n",
    "            Tv = np.empty_like(v)\n",
    "    \n",
    "        # Set Tv[i] = max_k { u[ (1-τ)y - k ] + β E[ v( G(y, x,k,z) ) ] }\n",
    "        for i, y in enumerate(self.y_grid):\n",
    "            def objective(k):\n",
    "                return -self.U(y = y, k = k, τ = τ) - self.β*np.mean( fv( self.G(y = y, x =x, k = k) ) )\n",
    "            k_star = fminbound(objective, 1e-10, (1-τ)*y  )\n",
    "            σ_v[i] = k_star\n",
    "            Tv[i] = - objective(k_star)\n",
    "        \n",
    "        return Tv, σ_v\n",
    "    \n",
    "   \n",
    "    def solve_agent_value_fun(self,τ = 0,x = 0 ,tol = 1e-6, max_iter = 500):\n",
    "        'solves for optimal growth'\n",
    "        #Creating Temporary variable\n",
    "        v = self.initial_v()\n",
    "        error = tol + 1\n",
    "        i = 0\n",
    "        \n",
    "        # Creating Empty Storage array for bellman operator\n",
    "        Tv = np.empty(len(self.y_grid))\n",
    "        \n",
    "        # Interating to find Solutions\n",
    "        while error > tol and i < max_iter:\n",
    "            v_new, σ_v = self.bellman_operator_v( v = v, x = x , τ = τ, Tv = Tv)\n",
    "            error = np.max( np.abs(v_new - v) )\n",
    "            v[:] = v_new\n",
    "            i += 1\n",
    "        return v, σ_v, i \n",
    "        \n",
    "    \n",
    "    \n",
    "    def vstar_func(self,x):\n",
    "        fv = interpolate.interp1d(self.y_grid, self.vstar_values,fill_value='extrapolate')\n",
    "        return fv(x)\n",
    "    \n",
    "    def v_func(self,y,x,k,τ):\n",
    "        ### Applying Linear Interpolation to v_values\n",
    "        #vprime = lambda x: np.interp(x, self.y_grid, self.v_values)\n",
    "        fv = interpolate.interp1d(self.y_grid, self.v_values,fill_value='extrapolate')\n",
    "        return self.U(y,k,τ) + self.β*np.mean( fv( self.G(y,x, k) ) )\n",
    "    \n",
    "    def agent_scenario(self,tol = 1e-6,max_iter = 500):\n",
    "        \"\"\"\n",
    "        This function first creates the v* funtion and then the v funtion\n",
    "        \"\"\"\n",
    "        #Creating v* function that is no tax scenario, that τ = 0 and x = 0\n",
    "        self.vstar_values, self.vstar_kvalues, self.vstar_iterations = self.solve_agent_value_fun(τ = 0,x = 0,\n",
    "                                                                                                  max_iter =max_iter,\n",
    "                                                                                                  tol = tol)\n",
    "        \n",
    "        #Creating v function i.e. with tax τ but still x = 0\n",
    "        self.v_values, self.v_kvalues, self.v_iterations = self.solve_agent_value_fun(τ = self.τ,x = 0,\n",
    "                                                                                     max_iter =max_iter,\n",
    "                                                                                                  tol = tol)\n",
    "        \n",
    "    def bellman_operator_w(self, w, k = 0, τ = 0, Tw = None):\n",
    "        \"\"\"\n",
    "        It runs of consumers utility equation\n",
    "        \"\"\"\n",
    "        ### Applying Linear Interpolation\n",
    "        fw = interpolate.interp1d(self.y_grid, w,fill_value='extrapolate')\n",
    "        \n",
    "        ### Intialized Policy if needed\n",
    "        σ_x = np.empty_like(w)\n",
    "        \n",
    "        ### Intialized Tw if necessary ###\n",
    "        if Tw is None:\n",
    "            Tw = np.empty_like(w)\n",
    "    \n",
    "        ### Set Tw[i] = max_k { W[ (τy - x ] + γ E[ w( G(y, x,k,z) ) ] }\n",
    "        for i, y in enumerate(self.y_grid):\n",
    "            def objective(x):\n",
    "                return -self.W(y = y, x = x, τ = τ) - self.γ*np.mean( fw( self.G(y = y, x =x, k = k) ) )\n",
    "            x_star = fminbound(objective, 1e-10, τ*y  )\n",
    "            σ_x[i] = x_star\n",
    "            Tw[i] = - objective(x_star)\n",
    "        \n",
    "        return Tw, σ_x\n",
    "        \n",
    "    def solve_principal_value_fun(self,τ = 0,k = 0 ,tol = 1e-6, max_iter = 500):\n",
    "        'solves for optimal w value of principal'\n",
    "        #Creating Temporary variables\n",
    "        w = self.initial_v()\n",
    "        error = tol + 1\n",
    "        i = 0\n",
    "        \n",
    "        # Creating Empty Storage array for bellman operator\n",
    "        Tw = np.empty(len(self.y_grid))\n",
    "        \n",
    "        # Interating to find Solutions\n",
    "        while error > tol and i < max_iter:\n",
    "            w_new, σ_x = self.bellman_operator_w( w = w, k = k , τ = τ, Tw = Tw)\n",
    "            error = np.max( np.abs(w_new - w) )\n",
    "            w[:] = w_new\n",
    "            i += 1\n",
    "        return w, σ_x, i \n",
    "    \n",
    "    def principal_scenario(self,tol = 1e-6,max_iter = 500):\n",
    "        \"\"\"\n",
    "        This is used to solve the principal problem\n",
    "        \"\"\"\n",
    "        #Creating w function i.e. with tax τ but assuming k = 0\n",
    "        self.w_values, self.w_xvalues, self.w_iterations = self.solve_principal_value_fun(τ = self.τ,k = 0, \n",
    "                                                                                          max_iter =max_iter,\n",
    "                                                                                         tol = tol)\n",
    "        \n",
    "    def w_func(self,y,x,k,τ):\n",
    "        ### Applying Linear Interpolation to v_values\n",
    "        fw = interpolate.interp1d(self.y_grid, self.w_values,fill_value='extrapolate')\n",
    "        return self.W(y = y,x = x,τ = τ) + self.γ*np.mean( fw( self.G(y,x, k) ) )\n",
    "        \n",
    "    \n",
    "    \n",
    "    def bellman_operator_v_two_controls(self, v ,σ_k ,σ_x , τ = 0, Tv = None):\n",
    "        \"\"\"\n",
    "        It runs of consumers utility equation\n",
    "        \"\"\"\n",
    "        ### Applying Linear Interpolation\n",
    "        fv = lambda x: np.interp(x, self.y_grid, v)\n",
    "        \n",
    "        # Intializeling Policy, Tv if needed\n",
    "        if σ_k is None:\n",
    "            σ_k = np.empty_like(v)\n",
    "        if σ_x is None:\n",
    "            σ_x = np.empty_like(v)\n",
    "        if Tv is None:\n",
    "            Tv = np.empty_like(v)\n",
    "    \n",
    "        # Set Tv[i] = max_k { u[ (1-τ)y - k ] + β E[ v( G(y, x,k,z) ) ] }\n",
    "        for i, y in enumerate(self.y_grid):\n",
    "            def objective(params):\n",
    "                k,x = params\n",
    "                return (-self.U(y = y, k = k, τ = τ) - self.β*np.mean( fv( self.G(y = y, x =x, k = k) ) ))\n",
    "            k_bound = (1e-10,(1-τ)*y)\n",
    "            x_bound = (1e-10,τ*y)\n",
    "            bnds = (k_bound, x_bound)\n",
    "            x0 = [(1-τ)*y/2,τ*y/2]\n",
    "            sol = minimize(objective,x0=x0,method = 'SLSQP',bounds = bnds )\n",
    "            if sol.success:\n",
    "                kstar = sol.x[0]\n",
    "                xstar = sol.x[1]\n",
    "                Tv[i] = - objective(k_star,xstar)\n",
    "                σ_k[i] = kstar\n",
    "                σ_x[i] = xstar\n",
    "            else:\n",
    "                raise ValueError(result.message)\n",
    "                break\n",
    "        \n",
    "        return Tv, σ_k, σ_x\n",
    "            \n",
    "    \n",
    "    def graph_agent_value_fun_sequence(self,n,x = 0, τ = 0):\n",
    "        fig, ax = plt.subplots(figsize = (9,6))\n",
    "        lb = 'initial condition'\n",
    "        v = self.initial_v()\n",
    "        ax.plot(self.y_grid,v,color = 'black', lw = 2, alpha = 0.6, label = lb)\n",
    "        for i in range(n):\n",
    "            v_new, σ_v = self.bellman_operator_v(v = v, x = x, τ = τ, Tv = v)\n",
    "            ax.plot(self.y_grid, v_new, color = plt.cm.jet((i+1)/n), alpha = 0.6)     \n",
    "        ax.set_ylim( np.min(v_new), np.max(v_new)+1 )\n",
    "        ax.set_xlim( np.min(self.y_grid),np.max(self.y_grid) +1)\n",
    "        ax.legend(loc = 'lower right')\n",
    "        plt.axis('scaled')\n",
    "        plt.show()\n",
    "        \n",
    "    def graph_vstar(self):\n",
    "        fig, ax = plt.subplots(figsize = (9,6))\n",
    "        lb = 'Tau = {}'.format(self.τ)\n",
    "        ax.plot(self.y_grid,self.vstar_values,color = 'black', lw = 2, alpha = 0.6, label = lb)\n",
    "        ax.set_ylim( np.min(self.vstar_values), np.max(self.vstar_values)+1 )\n",
    "        ax.set_xlim( np.min(self.y_grid),np.max(self.y_grid) +1)\n",
    "        ax.legend(loc = 'lower right')\n",
    "        plt.axis('scaled')\n",
    "        plt.show()\n",
    "        #return fig\n",
    "        \n",
    "    def graph_principal_value_fun_sequence(self,n,k = 0):\n",
    "        fig, ax = plt.subplots(figsize = (9,6))\n",
    "        lb = 'initial condition'\n",
    "        w = self.initial_v()\n",
    "        ax.plot(self.y_grid,w,color = 'black', lw = 2, alpha = 0.6, label = lb)\n",
    "        for i in range(n):\n",
    "            w_new, σ_x = self.bellman_operator_w( w, k = k, τ = self.τ, Tw = w)\n",
    "            ax.plot(self.y_grid, w_new, color = plt.cm.jet((i+1)/n), alpha = 0.6)     \n",
    "        ax.set_ylim( np.min(w_new), np.max(w_new)+1 )\n",
    "        ax.set_xlim( np.min(self.y_grid),np.max(self.y_grid) +1)\n",
    "        ax.legend(loc = 'lower right')\n",
    "        plt.axis('scaled')\n",
    "        plt.show()"
   ]
  },
  {
   "cell_type": "code",
   "execution_count": 328,
   "metadata": {
    "collapsed": true
   },
   "outputs": [],
   "source": [
    "dpsm= DynamicProgrammingSquaredModel(τ = 0.3, y_max= 1000)"
   ]
  },
  {
   "cell_type": "code",
   "execution_count": 331,
   "metadata": {
    "collapsed": true
   },
   "outputs": [],
   "source": [
    "dpsm.agent_scenario()\n",
    "dpsm.principal_scenario()"
   ]
  },
  {
   "cell_type": "code",
   "execution_count": 325,
   "metadata": {},
   "outputs": [
    {
     "data": {
      "text/plain": [
       "64"
      ]
     },
     "execution_count": 325,
     "metadata": {},
     "output_type": "execute_result"
    },
    {
     "data": {
      "text/plain": [
       "62"
      ]
     },
     "execution_count": 325,
     "metadata": {},
     "output_type": "execute_result"
    },
    {
     "data": {
      "text/plain": [
       "109"
      ]
     },
     "execution_count": 325,
     "metadata": {},
     "output_type": "execute_result"
    },
    {
     "data": {
      "text/plain": [
       "array([  0.07711144,   2.83209465,   3.38455603,   3.82121661,\n",
       "         4.21734204,   4.5813242 ,   4.92503711,   5.25603609,\n",
       "         5.57719606,   5.8896546 ,   6.19468631,   6.49345516,\n",
       "         6.78675775,   7.07529765,   7.35954834,   7.63992515,\n",
       "         7.91681304,   8.1904646 ,   8.46120951,   8.72919271,\n",
       "         8.99466896,   9.25778888,   9.51871956,   9.77754339,\n",
       "        10.03442715,  10.28954692,  10.54295544,  10.79479308,\n",
       "        11.0451239 ,  11.29398776,  11.54149221,  11.78767039,\n",
       "        12.03256873,  12.27624635,  12.51877629,  12.76019262,\n",
       "        13.00052811,  13.239804  ,  13.4781039 ,  13.71547523,\n",
       "        13.95194361,  14.18753029,  14.42224418,  14.65612788,\n",
       "        14.88917649,  15.12144644,  15.35295523,  15.58371966,\n",
       "        15.81376573,  16.04311705,  16.27178075,  16.49977237,\n",
       "        16.72710917,  16.95382063,  17.17992219,  17.40543023,\n",
       "        17.63033915,  17.85465679,  18.07842047,  18.30164915,\n",
       "        18.52433705,  18.7464926 ,  18.96813835,  19.18927882,\n",
       "        19.40992747,  19.63008742,  19.84977118,  20.06899416,\n",
       "        20.28776487,  20.50608713,  20.72396853,  20.94140212,\n",
       "        21.15840583,  21.37498861,  21.59116454,  21.80694349,\n",
       "        22.0223342 ,  22.23733644,  22.45195731,  22.66619912,\n",
       "        22.88007805,  23.09359204,  23.30674347,  23.51953165,\n",
       "        23.73197345,  23.94407492,  24.15584291,  24.36727614,\n",
       "        24.57838075,  24.78916052,  24.99962273,  25.20977097,\n",
       "        25.41959888,  25.62911936,  25.83834131,  26.047263  ,\n",
       "        26.25589979,  26.46424944,  26.67230692,  26.88008891])"
      ]
     },
     "execution_count": 325,
     "metadata": {},
     "output_type": "execute_result"
    },
    {
     "data": {
      "text/plain": [
       "array([ -1.85404016e-06,  -2.27168691e-01,  -6.05586228e-01,\n",
       "        -9.08460971e-01,  -1.21179239e+00,  -1.51498116e+00,\n",
       "        -1.81804393e+00,  -2.12106902e+00,  -2.42410556e+00,\n",
       "        -2.72714403e+00,  -3.03018525e+00,  -3.33322491e+00,\n",
       "        -3.63625964e+00,  -3.93929295e+00,  -4.24232990e+00,\n",
       "        -4.54536026e+00,  -4.84839573e+00,  -5.15142948e+00,\n",
       "        -5.45446279e+00,  -5.75749677e+00,  -6.06052878e+00,\n",
       "        -6.36356287e+00,  -6.66659557e+00,  -6.96962712e+00,\n",
       "        -7.27265940e+00,  -7.57569008e+00,  -7.87872274e+00,\n",
       "        -8.18175320e+00,  -8.48478253e+00,  -8.78781334e+00,\n",
       "        -9.09084562e+00,  -9.39387612e+00,  -9.69690838e+00,\n",
       "        -9.99993697e+00,  -1.03029675e+01,  -1.06059993e+01,\n",
       "        -1.09090311e+01,  -1.12120603e+01,  -1.15150897e+01,\n",
       "        -1.18181228e+01,  -1.21211525e+01,  -1.24241827e+01,\n",
       "        -1.27272125e+01,  -1.30302424e+01,  -1.33332724e+01,\n",
       "        -1.36363053e+01,  -1.39393350e+01,  -1.42423653e+01,\n",
       "        -1.45453961e+01,  -1.48484246e+01,  -1.51514575e+01,\n",
       "        -1.54544857e+01,  -1.57575158e+01,  -1.60605483e+01,\n",
       "        -1.63635774e+01,  -1.66666066e+01,  -1.69696391e+01,\n",
       "        -1.72726682e+01,  -1.75756974e+01,  -1.78787274e+01,\n",
       "        -1.81817577e+01,  -1.84847914e+01,  -1.87878216e+01,\n",
       "        -1.90908514e+01,  -1.93938815e+01,  -1.96969120e+01,\n",
       "        -1.99999416e+01,  -2.03029714e+01,  -2.06060015e+01,\n",
       "        -2.09090312e+01,  -2.12120645e+01,  -2.15150945e+01,\n",
       "        -2.18181248e+01,  -2.21211555e+01,  -2.24241858e+01,\n",
       "        -2.27272158e+01,  -2.30302460e+01,  -2.33332742e+01,\n",
       "        -2.36363071e+01,  -2.39393351e+01,  -2.42423650e+01,\n",
       "        -2.45453956e+01,  -2.48484288e+01,  -2.51514584e+01,\n",
       "        -2.54544880e+01,  -2.57575175e+01,  -2.60605471e+01,\n",
       "        -2.63635800e+01,  -2.66666096e+01,  -2.69696392e+01,\n",
       "        -2.72726688e+01,  -2.75756985e+01,  -2.78787293e+01,\n",
       "        -2.81817592e+01,  -2.84847929e+01,  -2.87878228e+01,\n",
       "        -2.90908528e+01,  -2.93938831e+01,  -2.96969133e+01,\n",
       "        -2.99999432e+01])"
      ]
     },
     "execution_count": 325,
     "metadata": {},
     "output_type": "execute_result"
    }
   ],
   "source": [
    "dpsm.vstar_iterations\n",
    "dpsm.v_iterations\n",
    "dpsm.w_iterations\n",
    "dpsm.w_values\n",
    "dpsm.w_xvalues-dpsm.y_grid*dpsm.τ"
   ]
  },
  {
   "cell_type": "code",
   "execution_count": 251,
   "metadata": {},
   "outputs": [
    {
     "data": {
      "text/plain": [
       "12.890466203212563"
      ]
     },
     "execution_count": 251,
     "metadata": {},
     "output_type": "execute_result"
    }
   ],
   "source": []
  },
  {
   "cell_type": "code",
   "execution_count": 259,
   "metadata": {
    "collapsed": true
   },
   "outputs": [],
   "source": [
    "# Checking out concavity of G function\n"
   ]
  },
  {
   "cell_type": "code",
   "execution_count": 262,
   "metadata": {},
   "outputs": [
    {
     "data": {
      "text/plain": [
       "[<matplotlib.lines.Line2D at 0x196546e2ef0>]"
      ]
     },
     "execution_count": 262,
     "metadata": {},
     "output_type": "execute_result"
    },
    {
     "data": {
      "image/png": "[encoded data removed]",
      "text/plain": [
       "<matplotlib.figure.Figure at 0x19653d851d0>"
      ]
     },
     "metadata": {},
     "output_type": "display_data"
    }
   ],
   "source": [
    "plt.plot(dpsm.y_grid,g_grid)"
   ]
  },
  {
   "cell_type": "code",
   "execution_count": 318,
   "metadata": {},
   "outputs": [
    {
     "data": {
      "image/png": "[encoded data removed]",
      "text/plain": [
       "<matplotlib.figure.Figure at 0x19654bfd5f8>"
      ]
     },
     "metadata": {},
     "output_type": "display_data"
    }
   ],
   "source": [
    "dpsm= DynamicProgrammingSquaredModel(τ = 0.3, y_max= 1000)\n",
    "def G(self, y,x, k):\n",
    "        'G is state transition function'\n",
    "        return (y**.9+ x**.8 +k**.5 )*self.shocks\n",
    "\n",
    "plt.plot(dpsm.y_grid, G(dpsm, 100,30,70))\n",
    "\n",
    "g_grid = []    \n",
    "for i, y in enumerate(dpsm.y_grid):\n",
    "    ans = np.mean(G(dpsm, y = y, x = dpsm.τ*y, k = (1-dpsm.τ)*y))\n",
    "    g_grid.append(ans)\n",
    "\n",
    "g_grid = np.asarray(g_grid)\n",
    "\n",
    "%matplotlib inline\n",
    "\n",
    "fig,ax = plt.subplots(figsize=(8,8))\n",
    "lb = 'G grid'\n",
    "ax.plot(dpsm.y_grid,g_grid,color = 'black', lw = 2, alpha = 0.6, label = lb)\n",
    "ax.set_ylim( np.min(g_grid), np.max(g_grid)+1 )\n",
    "ax.set_xlim( np.min(dpsm.y_grid),np.max(dpsm.y_grid) +1)\n",
    "ax.legend(loc = 'lower right')\n",
    "plt.axis('scaled')\n",
    "plt.show();"
   ]
  },
  {
   "cell_type": "code",
   "execution_count": 329,
   "metadata": {},
   "outputs": [
    {
     "data": {
      "image/png": "[encoded data removed]",
      "text/plain": [
       "<matplotlib.figure.Figure at 0x19653d967b8>"
      ]
     },
     "metadata": {},
     "output_type": "display_data"
    }
   ],
   "source": [
    "dpsm.graph_agent_value_fun_sequence(n = 10)"
   ]
  },
  {
   "cell_type": "code",
   "execution_count": 330,
   "metadata": {},
   "outputs": [
    {
     "data": {
      "image/png": "[encoded data removed]",
      "text/plain": [
       "<matplotlib.figure.Figure at 0x19653d96198>"
      ]
     },
     "metadata": {},
     "output_type": "display_data"
    }
   ],
   "source": [
    "dpsm.graph_principal_value_fun_sequence(n = 10)"
   ]
  },
  {
   "cell_type": "code",
   "execution_count": 145,
   "metadata": {},
   "outputs": [
    {
     "data": {
      "text/plain": [
       "124.63774957394025"
      ]
     },
     "execution_count": 145,
     "metadata": {},
     "output_type": "execute_result"
    },
    {
     "data": {
      "text/plain": [
       "505.05050999999997"
      ]
     },
     "execution_count": 145,
     "metadata": {},
     "output_type": "execute_result"
    },
    {
     "data": {
      "text/plain": [
       "54.585908738892606"
      ]
     },
     "execution_count": 145,
     "metadata": {},
     "output_type": "execute_result"
    },
    {
     "data": {
      "text/plain": [
       "164.21072931185427"
      ]
     },
     "execution_count": 145,
     "metadata": {},
     "output_type": "execute_result"
    }
   ],
   "source": [
    "# Checking the w-Values are correct\n",
    "i = 50\n",
    "y = dpsm.y_grid[i]\n",
    "x = dpsm.w_xvalues[i]\n",
    "k = dpsm.v_kvalues[i]\n",
    "dpsm.w_values[i]\n",
    "y\n",
    "x\n",
    "dpsm.w_func(y = y , x= x , k = k, τ= dpsm.τ)"
   ]
  },
  {
   "cell_type": "code",
   "execution_count": null,
   "metadata": {
    "collapsed": true
   },
   "outputs": [],
   "source": [
    "import matplotlib.pylab as plt\n",
    "\n",
    "plt.plot(*zip(*sorted(x.items())))\n",
    "plt.show()\n",
    "dpsm.vstar_iterations\n",
    "dpsm.v_iterations"
   ]
  },
  {
   "cell_type": "code",
   "execution_count": 334,
   "metadata": {
    "collapsed": true
   },
   "outputs": [],
   "source": [
    "dpsm= DynamicProgrammingSquaredModel(τ = 0.3, y_max= 100)\n",
    "\n",
    "dpsm.agent_scenario()"
   ]
  },
  {
   "cell_type": "code",
   "execution_count": 335,
   "metadata": {},
   "outputs": [
    {
     "data": {
      "text/plain": [
       "[<matplotlib.lines.Line2D at 0x19654c4a400>]"
      ]
     },
     "execution_count": 335,
     "metadata": {},
     "output_type": "execute_result"
    },
    {
     "data": {
      "image/png": "[encoded data removed]",
      "text/plain": [
       "<matplotlib.figure.Figure at 0x196543c7ba8>"
      ]
     },
     "metadata": {},
     "output_type": "display_data"
    },
    {
     "data": {
      "text/plain": [
       "66"
      ]
     },
     "execution_count": 335,
     "metadata": {},
     "output_type": "execute_result"
    },
    {
     "data": {
      "text/plain": [
       "64"
      ]
     },
     "execution_count": 335,
     "metadata": {},
     "output_type": "execute_result"
    }
   ],
   "source": [
    "x ={}\n",
    "for i,y in enumerate(dpsm.y_grid):\n",
    "    xmax = dpsm.τ*y\n",
    "    x[i] = dpsm.v_func(k= dpsm.v_kvalues[i] ,x =xmax,τ = dpsm.τ ,y =y )-dpsm.vstar_values[i]\n",
    "\n",
    "import matplotlib.pylab as plt\n",
    "\n",
    "plt.plot(*zip(*sorted(x.items())))\n",
    "plt.show()\n",
    "dpsm.vstar_iterations\n",
    "dpsm.v_iterations"
   ]
  },
  {
   "cell_type": "code",
   "execution_count": 7,
   "metadata": {},
   "outputs": [
    {
     "data": {
      "text/plain": [
       "90.685843433226012"
      ]
     },
     "execution_count": 7,
     "metadata": {},
     "output_type": "execute_result"
    }
   ],
   "source": [
    "dpsm.vstar_values[80]"
   ]
  },
  {
   "cell_type": "code",
   "execution_count": 17,
   "metadata": {},
   "outputs": [
    {
     "name": "stdout",
     "output_type": "stream",
     "text": [
      "y is 80.80808272727272\n",
      "xmax is 24.242424818181814\n",
      "kmax is 56.5656579090909\n",
      "kstar is 9.906779212229173 and xstar is 24.242424818180304\n",
      "Optimum Value is 126.91260584479565\n"
     ]
    }
   ],
   "source": [
    "import numpy as np\n",
    "from scipy.optimize import minimize\n",
    "y = dpsm.y_grid[80]\n",
    "print('y is {}'.format(y))\n",
    "τ = dpsm.τ\n",
    "β = dpsm.β\n",
    "print('xmax is {}'.format(τ*y))\n",
    "print('kmax is {}'.format((1-τ)*y))\n",
    "\n",
    "gv = interpolate.interp1d(dpsm.y_grid, dpsm.v_values,fill_value='extrapolate')\n",
    "def objective2(params):\n",
    "    k,x = params\n",
    "    return -dpsm.U(y = y, k = k, τ = τ) - dpsm.β*np.mean( gv( dpsm.G(y = y, x =x, k = k) ) )\n",
    "k_bound = (1e-10,(1-τ)*y)\n",
    "x_bound = (1e-10,τ*y)\n",
    "bnds = (k_bound, x_bound)\n",
    "x0 = [(1-τ)*y/2,τ*y/2]\n",
    "sol = minimize(objective2,x0=x0,method = 'SLSQP',bounds = bnds )\n",
    "#sol.x\n",
    "print('kstar is {} and xstar is {}'.format(sol.x[0],sol.x[1]))\n",
    "print('Optimum Value is {}'.format(-objective2(sol.x)))"
   ]
  },
  {
   "cell_type": "code",
   "execution_count": 18,
   "metadata": {},
   "outputs": [
    {
     "data": {
      "text/plain": [
       "90.685843433226012"
      ]
     },
     "execution_count": 18,
     "metadata": {},
     "output_type": "execute_result"
    }
   ],
   "source": [
    "vstar = dpsm.vstar_values[80]\n",
    "vstar"
   ]
  },
  {
   "cell_type": "code",
   "execution_count": 97,
   "metadata": {},
   "outputs": [
    {
     "name": "stdout",
     "output_type": "stream",
     "text": [
      "y is 80.80808272727272\n",
      "xmax is 24.242424818181814\n",
      "kmax is 56.5656579090909\n",
      "kstar is 9.922947011751903 and xstar is 10.408350998942286\n",
      "Constraint - Vstar is -2.323213408317315e-07\n",
      "consumer value is 90.68584320090467\n"
     ]
    }
   ],
   "source": [
    "\n",
    "import numpy as np\n",
    "from scipy.optimize import minimize\n",
    "y = dpsm.y_grid[80]\n",
    "print('y is {}'.format(y))\n",
    "τ = dpsm.τ\n",
    "β = dpsm.β\n",
    "print('xmax is {}'.format(τ*y))\n",
    "print('kmax is {}'.format((1-τ)*y))\n",
    "#fv = lambda x: np.interp(x, dpsm.y_grid, dpsm.v_values)\n",
    "gv = interpolate.interp1d(dpsm.y_grid, dpsm.v_values,fill_value='extrapolate')\n",
    "\n",
    "def objective(params):\n",
    "    k,x = params\n",
    "    return x\n",
    "\n",
    "def constraint1(params):\n",
    "    k,x = params\n",
    "    return dpsm.U(y = y, k = k, τ = τ) + dpsm.β*np.mean( gv( dpsm.G(y = y, x =x, k = k) ) ) - vstar\n",
    "\n",
    "k_bound = (1e-10,(1-τ)*y)\n",
    "x_bound = (1e-10,τ*y)\n",
    "bnds = (k_bound, x_bound)\n",
    "x0 = [(1-τ)*y/2,τ*y/2]\n",
    "con1 = {'type':'ineq','fun':constraint1}\n",
    "cons = ([con1])\n",
    "sol = minimize(objective,x0=x0,method = 'SLSQP',bounds = bnds, constraints= cons )\n",
    "#sol\n",
    "#sol.x\n",
    "print('kstar is {} and xstar is {}'.format(sol.x[0],sol.x[1]))\n",
    "print('Constraint - Vstar is {}'.format(constraint1(sol.x)))\n",
    "print('consumer value is {}'.format(constraint1(sol.x)+vstar))"
   ]
  },
  {
   "cell_type": "code",
   "execution_count": null,
   "metadata": {
    "collapsed": true
   },
   "outputs": [],
   "source": [
    "xgrid = np.linspace(0,τ*y,20)\n",
    "kgrid = np.linspace(0,(1-τ)*y,20)\n",
    "\n",
    "megadic = {}\n",
    "count = 0\n",
    "for i,k in enumerate(kgrid):\n",
    "    for j,x in enumerate(xgrid):\n",
    "        megadic[count] = (k,x,-objective2([k,x]))\n",
    "        count+=1"
   ]
  },
  {
   "cell_type": "code",
   "execution_count": 99,
   "metadata": {
    "scrolled": true
   },
   "outputs": [
    {
     "data": {
      "text/plain": [
       "{10: (0.0, 12.759170956937798, 90.926806354865718),\n",
       " 169: (23.817119119617221, 11.483253861244018, 91.641566278082337),\n",
       " 189: (26.794259009569373, 11.483253861244018, 90.884495352195231),\n",
       " 250: (35.725678679425833, 12.759170956937798, 91.603657397625213),\n",
       " 311: (44.657098349282286, 14.035088052631577, 91.656793835380782),\n",
       " 372: (53.588518019138746, 15.311005148325357, 90.878081661374694)}"
      ]
     },
     "execution_count": 99,
     "metadata": {},
     "output_type": "execute_result"
    }
   ],
   "source": [
    "{k: v for k, v in megadic.items() if v[2] >= vstar and v[2] < 92 }"
   ]
  },
  {
   "cell_type": "code",
   "execution_count": 97,
   "metadata": {},
   "outputs": [
    {
     "name": "stdout",
     "output_type": "stream",
     "text": [
      "y is 80.80808272727272\n",
      "xmax is 24.242424818181814\n",
      "kmax is 56.5656579090909\n",
      "kstar is 9.922947011751903 and xstar is 10.408350998942286\n",
      "Constraint - Vstar is -2.323213408317315e-07\n",
      "consumer value is 90.68584320090467\n"
     ]
    }
   ],
   "source": [
    "import numpy as np\n",
    "from scipy.optimize import minimize\n",
    "y = dpsm.y_grid[80]\n",
    "print('y is {}'.format(y))\n",
    "τ = dpsm.τ\n",
    "β = dpsm.β\n",
    "print('xmax is {}'.format(τ*y))\n",
    "print('kmax is {}'.format((1-τ)*y))\n",
    "#fv = lambda x: np.interp(x, dpsm.y_grid, dpsm.v_values)\n",
    "fv = interpolate.interp1d(dpsm.y_grid, dpsm.v_values,fill_value='extrapolate')\n",
    "fw = interpolate.interp1d(dpsm.y_grid, dpsm.w_values,fill_value='extrapolate')\n",
    "\n",
    "def objective(params):\n",
    "    k,x = params\n",
    "    return x\n",
    "\n",
    "def constraint1(params):\n",
    "    k,x = params\n",
    "    return dpsm.U(y = y, k = k, τ = τ) + dpsm.β*np.mean( fv( dpsm.G(y = y, x =x, k = k) ) ) - vstar\n",
    "\n",
    "k_bound = (1e-10,(1-τ)*y)\n",
    "x_bound = (1e-10,τ*y)\n",
    "bnds = (k_bound, x_bound)\n",
    "x0 = [(1-τ)*y/2,τ*y/2]\n",
    "con1 = {'type':'ineq','fun':constraint1}\n",
    "cons = ([con1])\n",
    "sol = minimize(objective,x0=x0,method = 'SLSQP',bounds = bnds, constraints= cons )\n",
    "#sol\n",
    "#sol.x\n",
    "print('kstar is {} and xstar is {}'.format(sol.x[0],sol.x[1]))\n",
    "print('Constraint - Vstar is {}'.format(constraint1(sol.x)))\n",
    "print('consumer value is {}'.format(constraint1(sol.x)+vstar))"
   ]
  }
 ],
 "metadata": {
  "kernelspec": {
   "display_name": "Python 3",
   "language": "python",
   "name": "python3"
  },
  "language_info": {
   "codemirror_mode": {
    "name": "ipython",
    "version": 3
   },
   "file_extension": ".py",
   "mimetype": "text/x-python",
   "name": "python",
   "nbconvert_exporter": "python",
   "pygments_lexer": "ipython3",
   "version": "3.6.4"
  }
 },
 "nbformat": 4,
 "nbformat_minor": 2
}
